{
 "cells": [
  {
   "cell_type": "code",
   "execution_count": 1,
   "metadata": {},
   "outputs": [],
   "source": [
    "import json\n",
    "import numpy as np\n",
    "from sklearn.model_selection import train_test_split\n",
    "import tensorflow.keras as keras"
   ]
  },
  {
   "cell_type": "code",
   "execution_count": 2,
   "metadata": {},
   "outputs": [],
   "source": [
    "DATA_PATH = \"/home/rohit/Desktop/DL/text_data\""
   ]
  },
  {
   "cell_type": "code",
   "execution_count": 3,
   "metadata": {},
   "outputs": [],
   "source": [
    "def load_data():\n",
    "    with open(DATA_PATH, \"r\") as f:\n",
    "        data = json.load(f)\n",
    "    \n",
    "    X = np.array(data[\"mfcc\"])\n",
    "    y = np.array(data[\"label\"])\n",
    "    return X, y"
   ]
  },
  {
   "cell_type": "code",
   "execution_count": 4,
   "metadata": {},
   "outputs": [],
   "source": [
    "def prepare_data(test_size, validation_size):\n",
    "    X, y = load_data()\n",
    "    X_train, X_test, y_train, y_test = train_test_split(X, y, test_size=test_size)\n",
    "    \n",
    "    X_train, X_validation, y_train, y_validation = train_test_split(X_train, y_train, test_size=validation_size)\n",
    "    \n",
    "    X_train = X_train[..., np.newaxis]\n",
    "    X_validation = X_validation[..., np.newaxis]\n",
    "    X_test = X_test[..., np.newaxis]\n",
    "    \n",
    "    return X_train, X_validation, X_test, y_train, y_validation, y_test\n",
    "    \n",
    "    "
   ]
  },
  {
   "cell_type": "code",
   "execution_count": 5,
   "metadata": {},
   "outputs": [],
   "source": [
    "def build_model(input_shape):\n",
    "    #create model\n",
    "    model = keras.Sequential()\n",
    "    \n",
    "    #1st conv layer\n",
    "    model.add(keras.layers.Conv2D(32, (3, 3), activation='relu', input_shape=input_shape))\n",
    "    model.add(keras.layers.MaxPool2D((3, 3), strides=(2, 2), padding='same'))\n",
    "    model.add(keras.layers.BatchNormalization())\n",
    "    \n",
    "    #2nd conv layer\n",
    "    model.add(keras.layers.Conv2D(32, (3, 3), activation='relu', input_shape=input_shape))\n",
    "    model.add(keras.layers.MaxPool2D((3, 3), strides=(2, 2), padding='same'))\n",
    "    model.add(keras.layers.BatchNormalization())\n",
    "    \n",
    "    #3rd conv layer\n",
    "    model.add(keras.layers.Conv2D(32, (2, 2), activation='relu', input_shape=input_shape))\n",
    "    model.add(keras.layers.MaxPool2D((2, 2), strides=(2, 2), padding='same'))\n",
    "    model.add(keras.layers.BatchNormalization())\n",
    "    \n",
    "    #flatten and feed into dense layer\n",
    "    model.add(keras.layers.Flatten())\n",
    "    model.add(keras.layers.Dense(64, activation='relu'))\n",
    "    model.add(keras.layers.Dropout(0.3))\n",
    "    \n",
    "    #output layer\n",
    "    model.add(keras.layers.Dense(2, activation='softmax'))\n",
    "    \n",
    "    return model"
   ]
  },
  {
   "cell_type": "code",
   "execution_count": 7,
   "metadata": {},
   "outputs": [],
   "source": [
    "# create datasets\n",
    "\n",
    "X_train, X_validation, X_test, y_train, y_validation, y_test = prepare_data(0.25, 0.2)"
   ]
  },
  {
   "cell_type": "code",
   "execution_count": 8,
   "metadata": {},
   "outputs": [
    {
     "name": "stdout",
     "output_type": "stream",
     "text": [
      "Epoch 1/30\n",
      "46/46 [==============================] - 3s 54ms/step - loss: 0.6273 - accuracy: 0.6882 - val_loss: 0.4651 - val_accuracy: 0.8430\n",
      "Epoch 2/30\n",
      "46/46 [==============================] - 2s 42ms/step - loss: 0.4739 - accuracy: 0.8125 - val_loss: 0.4525 - val_accuracy: 0.8237\n",
      "Epoch 3/30\n",
      "46/46 [==============================] - 2s 43ms/step - loss: 0.4492 - accuracy: 0.8080 - val_loss: 0.4383 - val_accuracy: 0.8044\n",
      "Epoch 4/30\n",
      "46/46 [==============================] - 2s 42ms/step - loss: 0.3822 - accuracy: 0.8380 - val_loss: 0.4164 - val_accuracy: 0.8209\n",
      "Epoch 5/30\n",
      "46/46 [==============================] - 2s 41ms/step - loss: 0.3816 - accuracy: 0.8362 - val_loss: 0.3751 - val_accuracy: 0.8430\n",
      "Epoch 6/30\n",
      "46/46 [==============================] - 2s 44ms/step - loss: 0.3390 - accuracy: 0.8755 - val_loss: 0.3431 - val_accuracy: 0.8540\n",
      "Epoch 7/30\n",
      "46/46 [==============================] - 3s 55ms/step - loss: 0.2942 - accuracy: 0.8720 - val_loss: 0.3446 - val_accuracy: 0.8402\n",
      "Epoch 8/30\n",
      "46/46 [==============================] - 2s 44ms/step - loss: 0.3066 - accuracy: 0.8737 - val_loss: 0.3341 - val_accuracy: 0.8540\n",
      "Epoch 9/30\n",
      "46/46 [==============================] - 2s 43ms/step - loss: 0.2846 - accuracy: 0.8928 - val_loss: 0.3428 - val_accuracy: 0.8292\n",
      "Epoch 10/30\n",
      "46/46 [==============================] - 2s 44ms/step - loss: 0.2840 - accuracy: 0.8961 - val_loss: 0.3252 - val_accuracy: 0.8402\n",
      "Epoch 11/30\n",
      "46/46 [==============================] - 2s 43ms/step - loss: 0.2654 - accuracy: 0.8938 - val_loss: 0.3212 - val_accuracy: 0.8430\n",
      "Epoch 12/30\n",
      "46/46 [==============================] - 2s 45ms/step - loss: 0.2376 - accuracy: 0.9007 - val_loss: 0.3156 - val_accuracy: 0.8512\n",
      "Epoch 13/30\n",
      "46/46 [==============================] - 2s 48ms/step - loss: 0.2372 - accuracy: 0.9041 - val_loss: 0.3191 - val_accuracy: 0.8430\n",
      "Epoch 14/30\n",
      "46/46 [==============================] - 2s 48ms/step - loss: 0.2473 - accuracy: 0.9048 - val_loss: 0.3101 - val_accuracy: 0.8567\n",
      "Epoch 15/30\n",
      "46/46 [==============================] - 2s 47ms/step - loss: 0.2208 - accuracy: 0.9132 - val_loss: 0.3317 - val_accuracy: 0.8485\n",
      "Epoch 16/30\n",
      "46/46 [==============================] - 2s 48ms/step - loss: 0.2113 - accuracy: 0.9177 - val_loss: 0.3201 - val_accuracy: 0.8457\n",
      "Epoch 17/30\n",
      "46/46 [==============================] - 2s 48ms/step - loss: 0.2129 - accuracy: 0.9201 - val_loss: 0.3355 - val_accuracy: 0.8237\n",
      "Epoch 18/30\n",
      "46/46 [==============================] - 3s 54ms/step - loss: 0.2019 - accuracy: 0.9254 - val_loss: 0.3236 - val_accuracy: 0.8457\n",
      "Epoch 19/30\n",
      "46/46 [==============================] - 2s 48ms/step - loss: 0.1741 - accuracy: 0.9333 - val_loss: 0.3265 - val_accuracy: 0.8375\n",
      "Epoch 20/30\n",
      "46/46 [==============================] - 2s 48ms/step - loss: 0.2124 - accuracy: 0.9222 - val_loss: 0.3224 - val_accuracy: 0.8485\n",
      "Epoch 21/30\n",
      "46/46 [==============================] - 2s 48ms/step - loss: 0.1719 - accuracy: 0.9238 - val_loss: 0.3425 - val_accuracy: 0.8457\n",
      "Epoch 22/30\n",
      "46/46 [==============================] - 2s 51ms/step - loss: 0.1994 - accuracy: 0.9234 - val_loss: 0.3158 - val_accuracy: 0.8623\n",
      "Epoch 23/30\n",
      "46/46 [==============================] - 2s 49ms/step - loss: 0.1814 - accuracy: 0.9266 - val_loss: 0.3380 - val_accuracy: 0.8540\n",
      "Epoch 24/30\n",
      "46/46 [==============================] - 2s 49ms/step - loss: 0.1709 - accuracy: 0.9401 - val_loss: 0.3170 - val_accuracy: 0.8678\n",
      "Epoch 25/30\n",
      "46/46 [==============================] - 2s 49ms/step - loss: 0.1586 - accuracy: 0.9481 - val_loss: 0.3316 - val_accuracy: 0.8485\n",
      "Epoch 26/30\n",
      "46/46 [==============================] - 2s 51ms/step - loss: 0.1532 - accuracy: 0.9416 - val_loss: 0.3224 - val_accuracy: 0.8595\n",
      "Epoch 27/30\n",
      "46/46 [==============================] - 2s 49ms/step - loss: 0.1505 - accuracy: 0.9338 - val_loss: 0.3273 - val_accuracy: 0.8430\n",
      "Epoch 28/30\n",
      "46/46 [==============================] - 2s 49ms/step - loss: 0.1352 - accuracy: 0.9499 - val_loss: 0.3207 - val_accuracy: 0.8485\n",
      "Epoch 29/30\n",
      "46/46 [==============================] - 2s 49ms/step - loss: 0.1399 - accuracy: 0.9557 - val_loss: 0.3135 - val_accuracy: 0.8705\n",
      "Epoch 30/30\n",
      "46/46 [==============================] - 2s 48ms/step - loss: 0.1304 - accuracy: 0.9591 - val_loss: 0.3181 - val_accuracy: 0.8595\n",
      "19/19 [==============================] - 0s 10ms/step - loss: 0.3451 - accuracy: 0.8777\n",
      "Accuracy on test set is: 0.8776859641075134\n"
     ]
    }
   ],
   "source": [
    "# build cnn net\n",
    "\n",
    "input_shape = (X_train.shape[1], X_train.shape[2], X_train.shape[3])\n",
    "model = build_model(input_shape)\n",
    "\n",
    "#compile the network\n",
    "\n",
    "optimizer = keras.optimizers.Adam(learning_rate=0.0001)\n",
    "model.compile(optimizer=optimizer,\n",
    "             loss=\"sparse_categorical_crossentropy\",\n",
    "             metrics=['accuracy'])\n",
    "\n",
    "# train the cnn\n",
    "\n",
    "model.fit(X_train, y_train, validation_data=(X_validation, y_validation), batch_size=32, epochs=30)\n",
    "\n",
    "# evaluate cnn on test set\n",
    "\n",
    "test_error, test_accuracy = model.evaluate(X_test, y_test, verbose=1)\n",
    "print('Accuracy on test set is: {}'.format(test_accuracy))\n",
    "\n",
    "# make prediction on sample"
   ]
  },
  {
   "cell_type": "code",
   "execution_count": null,
   "metadata": {},
   "outputs": [],
   "source": []
  }
 ],
 "metadata": {
  "kernelspec": {
   "display_name": "Python 3",
   "language": "python",
   "name": "python3"
  },
  "language_info": {
   "codemirror_mode": {
    "name": "ipython",
    "version": 3
   },
   "file_extension": ".py",
   "mimetype": "text/x-python",
   "name": "python",
   "nbconvert_exporter": "python",
   "pygments_lexer": "ipython3",
   "version": "3.8.5"
  }
 },
 "nbformat": 4,
 "nbformat_minor": 4
}
